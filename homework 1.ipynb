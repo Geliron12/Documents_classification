{
 "cells": [
  {
   "cell_type": "markdown",
   "metadata": {},
   "source": [
    "# Задание 1.1\n",
    "\n",
    "[Свертка списка](https://ru.wikipedia.org/wiki/%D0%A1%D0%B2%D1%91%D1%80%D1%82%D0%BA%D0%B0_%D1%81%D0%BF%D0%B8%D1%81%D0%BA%D0%B0) -  это обобщенная операция над списком, c помощью которой можно преобразовать список в единое значение. Например, рассмотрим реализации свертки слева и свертки справа (левоассоциативную свертку и правоассоциативную свертку):"
   ]
  },
  {
   "cell_type": "code",
   "execution_count": 138,
   "metadata": {
    "jupyter": {
     "outputs_hidden": true
    }
   },
   "outputs": [],
   "source": [
    "def foldl(f, x0, lst):\n",
    "    if not lst:\n",
    "        return x0\n",
    "    return foldl(f, f(x0, lst[0]), lst[1:])\n",
    "\n",
    "def foldr(f, x0, lst):\n",
    "    if not lst:\n",
    "        return x0\n",
    "    return f(lst[0], foldr(f, x0, lst[1:]))\n"
   ]
  },
  {
   "cell_type": "code",
   "execution_count": 139,
   "metadata": {},
   "outputs": [
    {
     "data": {
      "text/plain": [
       "6"
      ]
     },
     "execution_count": 139,
     "metadata": {},
     "output_type": "execute_result"
    }
   ],
   "source": [
    "#сумма\n",
    "foldl(lambda x, y: x + y, 0, [1, 2, 3])"
   ]
  },
  {
   "cell_type": "code",
   "execution_count": 140,
   "metadata": {},
   "outputs": [
    {
     "data": {
      "text/plain": [
       "'123'"
      ]
     },
     "execution_count": 140,
     "metadata": {},
     "output_type": "execute_result"
    }
   ],
   "source": [
    "#конкатенация\n",
    "foldl(lambda x, y: '{}{}'.format(x, y), '', [1, 2, 3])"
   ]
  },
  {
   "cell_type": "code",
   "execution_count": 141,
   "metadata": {},
   "outputs": [
    {
     "data": {
      "text/plain": [
       "(0.16666666666666666, 1.5)"
      ]
     },
     "execution_count": 141,
     "metadata": {},
     "output_type": "execute_result"
    }
   ],
   "source": [
    "f = lambda x, y: x / y\n",
    "foldl(f, 1, [1, 2, 3]), \\\n",
    "foldr(f, 1, [1, 2, 3])"
   ]
  },
  {
   "cell_type": "markdown",
   "metadata": {},
   "source": [
    "Задача: реализовать foldl через foldr и наоборот. Вместо многоточий нужно вставить выражения, которые бы привели к нужному результату. Модифицировать сам список нельзя. "
   ]
  },
  {
   "cell_type": "code",
   "execution_count": 142,
   "metadata": {
    "jupyter": {
     "outputs_hidden": true
    }
   },
   "outputs": [],
   "source": [
    "def foldl2(f, x0, lst):\n",
    "    return foldr(lambda x, fr: lambda func, y0: foldr(func, y0, fr(lambda t1, t2: [t1] + t2, [x])), lambda func, y0: foldr(func, y0, []), lst)(lambda x, y: f(y, x), x0)"
   ]
  },
  {
   "cell_type": "code",
   "execution_count": 143,
   "metadata": {
    "jupyter": {
     "outputs_hidden": true
    }
   },
   "outputs": [],
   "source": [
    "def foldr2(f, x0, lst):\n",
    "    return foldl(lambda fl, x: lambda func, y0: foldl(func, y0, fl(lambda t1, t2: t1 + [t2], [x])), lambda func, y0: foldl(func, y0, []), lst)(lambda x, y: f(y, x), x0)"
   ]
  },
  {
   "cell_type": "markdown",
   "metadata": {},
   "source": [
    "# Задание 1.2\n",
    "\n",
    "нужно написать функцию, которая принимает две строки и проверяет, входит ли хотя бы одна перестановка второй строки в первую. Например:\n",
    "\n",
    "> a = 'abcrotm'\n",
    "> \n",
    "> b = 'tro'\n",
    "\n",
    "функция def check_inv(a, b) вернет True, так как 'rot' содержится в 'abcrotm'. Нужно подумать как можно более оптимальный алгоритм и оценить его сложность. "
   ]
  },
  {
   "cell_type": "code",
   "execution_count": 30,
   "metadata": {
    "jupyter": {
     "outputs_hidden": true
    }
   },
   "outputs": [],
   "source": [
    "def check_inv(a: str, b:str)->bool:\n",
    "    abc_for_2 = dict()\n",
    "    for i in b:\n",
    "        if (i in abc_for_2.keys()):\n",
    "            abc_for_2[i] +=1\n",
    "        else:\n",
    "            abc_for_2[i] = 1\n",
    "    counter = 0\n",
    "    string = []\n",
    "    for i in range(len(b)):\n",
    "        string.append(a[i])\n",
    "        if (a[i] in abc_for_2.keys()):\n",
    "            abc_for_2[a[i]]-=1\n",
    "            if abc_for_2[a[i]] >= 0:\n",
    "                counter+=1\n",
    "    if counter == len(b):\n",
    "        return True\n",
    "    i = len(b)\n",
    "    while i<len(a):\n",
    "        if (string[0] in abc_for_2.keys()):\n",
    "            abc_for_2[string[0]]+=1\n",
    "            if abc_for_2[string[0]] > 0:\n",
    "                counter-=1\n",
    "        del string[0]\n",
    "        string.append(a[i])\n",
    "        if (a[i] in abc_for_2.keys()):\n",
    "            abc_for_2[a[i]]-=1\n",
    "            if abc_for_2[a[i]] >= 0:\n",
    "                counter+=1\n",
    "        i+=1\n",
    "        if counter == len(b):\n",
    "            return True\n",
    "    return False"
   ]
  },
  {
   "cell_type": "code",
   "execution_count": 33,
   "metadata": {},
   "outputs": [
    {
     "data": {
      "text/plain": [
       "True"
      ]
     },
     "execution_count": 33,
     "metadata": {},
     "output_type": "execute_result"
    }
   ],
   "source": [
    "a = 'abcrotm'\n",
    "\n",
    "b = 'tro'\n",
    "\n",
    "check_inv(a,b)"
   ]
  },
  {
   "cell_type": "markdown",
   "metadata": {},
   "source": [
    "Сложность алгоритма O(n) за счет использования словаря"
   ]
  },
  {
   "cell_type": "markdown",
   "metadata": {},
   "source": [
    "# Задание 1.3\n",
    "\n",
    "Реализовать бинарное дерево (класс Tree), в нём методы __repr__, __str__, __iter__ (итерация только по листьям)."
   ]
  },
  {
   "cell_type": "code",
   "execution_count": 129,
   "metadata": {},
   "outputs": [
    {
     "data": {
      "text/plain": [
       "   0\n",
       " /    \\     \n",
       " 1    2     \n",
       "/ \\       \n",
       "3 4       "
      ]
     },
     "execution_count": 129,
     "metadata": {},
     "output_type": "execute_result"
    }
   ],
   "source": [
    "class Tree:\n",
    "    def __init__(self, value=None, left=None, right=None):\n",
    "        self.left = left\n",
    "        self.right = right\n",
    "        self.value = value\n",
    "        \n",
    "    def __iter__(self):\n",
    "        self.leafs = []\n",
    "        def pre_order(node,leafs):\n",
    "            if node:\n",
    "                if node.left == None and node.right==None:\n",
    "                    leafs.append(node.value)\n",
    "                else:\n",
    "                    pre_order(node.left,leafs)\n",
    "                    pre_order(node.right,leafs)\n",
    "        pre_order(self,self.leafs)\n",
    "        self.start = 0\n",
    "        return self\n",
    "    \n",
    "    def __next__(self):\n",
    "        if len(self.leafs)> self.start:\n",
    "            x = self.leafs[self.start]\n",
    "            self.start+=1\n",
    "            return x\n",
    "        else:\n",
    "            self.leafs = []\n",
    "            self.start = 0\n",
    "            raise StopIteration\n",
    "    \n",
    "    def __str__(self):\n",
    "        lst = [[self]]\n",
    "        val = [[self.value]]\n",
    "        for i in lst:\n",
    "            lst.append([])\n",
    "            val.append([])\n",
    "            for j in i:\n",
    "                if j.left!=None:\n",
    "                    lst[lst.index(i)+1].append(j.left)\n",
    "                    val[lst.index(i)+1].append(j.left.value)\n",
    "                else:\n",
    "                    val[lst.index(i)+1].append(' ')\n",
    "                if j.right!=None:\n",
    "                    lst[lst.index(i)+1].append(j.right)\n",
    "                    val[lst.index(i)+1].append(j.right.value)\n",
    "                else:\n",
    "                    val[lst.index(i)+1].append(' ')\n",
    "            if not lst[lst.index(i)+1]:\n",
    "                lst.pop()\n",
    "                val.pop()\n",
    "        str_repr = ''\n",
    "        for i in range(len(val)):\n",
    "            skip = 3**(len(lst)-i-1)\n",
    "            if i!=0:\n",
    "                str_br = ' '*int(skip/3)\n",
    "                str_val = ' '*int(skip/3)\n",
    "                for j in range(len(val[i])):\n",
    "                    str_val+=str(val[i][j])\n",
    "                    if i==len(val)-1:\n",
    "                        str_val+=' '\n",
    "                    else:\n",
    "                        str_val+=' '*(skip+1)\n",
    "                    if j%2!=0:\n",
    "                        str_val+=' '\n",
    "                        if str(val[i][j])!=' ':\n",
    "                            str_br+='\\\\'\n",
    "                        else:\n",
    "                            str_br+=' '\n",
    "                        str_br+=' '\n",
    "                    else:\n",
    "                        if str(val[i][j])!=' ':\n",
    "                            str_br+='/'\n",
    "                        else:\n",
    "                            str_br+=' '\n",
    "                    \n",
    "                    if i==len(val)-1:\n",
    "                        str_br+=' '\n",
    "                    else:\n",
    "                        str_br+=' '*(skip+1)\n",
    "                str_repr+=(str_br + '\\n' + str_val + '\\n')\n",
    "            else:\n",
    "                str_repr+=' '*int(skip/3)\n",
    "                str_repr+=str(val[i][0])\n",
    "                str_repr+='\\n'\n",
    "        return str_repr    \n",
    "                    \n",
    "    def __repr__(self):\n",
    "        return self.__str__()\n",
    "    \n",
    "tree = Tree(0, Tree(1, Tree(3), Tree(4)),                             \n",
    "               Tree(2))\n",
    "list(tree)==[3, 4, 2]\n",
    "tree"
   ]
  },
  {
   "cell_type": "markdown",
   "metadata": {},
   "source": [
    "# Задание 1.4\n",
    "\n",
    "Реализовать простейший калькулятор математических выражений:\n",
    "- только целые числа\n",
    "- **+**, **\\-**, **\\***, **\\**\n",
    "- скобки\n",
    "\n",
    "**Можно использовать регулярные выражения**"
   ]
  },
  {
   "cell_type": "code",
   "execution_count": 121,
   "metadata": {},
   "outputs": [
    {
     "data": {
      "text/plain": [
       "True"
      ]
     },
     "execution_count": 121,
     "metadata": {},
     "output_type": "execute_result"
    }
   ],
   "source": [
    "import re\n",
    "def calc(expr : str) -> int:\n",
    "    def simple_calc(simple_expr: str) -> int:\n",
    "        mul = re.findall(r'\\d*\\s\\*\\s\\d*',simple_expr)\n",
    "        if mul:\n",
    "            for i in mul:\n",
    "                ans = re.split(' ',i)\n",
    "                ans = int(ans[0]) * int(ans[2])\n",
    "                simple_expr = simple_expr.replace(i,str(ans))\n",
    "        div = re.findall(r'\\d*\\s\\\\\\s\\d*',simple_expr)\n",
    "        if div:\n",
    "            for i in div:\n",
    "                ans = re.split(' ',i)\n",
    "                ans = int(ans[0]) / int(ans[2])\n",
    "                simple_expr = simple_expr.replace(i,str(ans))\n",
    "        r = re.split(' ',simple_expr)\n",
    "        if len(r)>1:\n",
    "            ans = int(r[0])\n",
    "            for i in range(1,len(r)-1,2):\n",
    "                if r[i]=='+':\n",
    "                        ans+=int(r[i+1])\n",
    "                elif r[i]=='-':\n",
    "                        ans-=int(r[i+1])\n",
    "            return ans\n",
    "        else:\n",
    "            return int(simple_expr)\n",
    "    brackets = re.findall(r'\\([\\d*\\s*\\+*\\-*\\**\\/*]*\\)',expr)\n",
    "    while brackets:\n",
    "        for i in brackets:\n",
    "            d = i[1:-1]\n",
    "            d = str(simple_calc(d))\n",
    "            expr = expr.replace(i,d)\n",
    "        brackets = re.findall(r'\\([\\d*\\s*\\+*\\-*\\**\\/*]*\\)',expr)\n",
    "    ans = simple_calc(expr)\n",
    "    return ans\n",
    "calc('2 * (15 - 3 * 4) - 2') == 4"
   ]
  }
 ],
 "metadata": {
  "kernelspec": {
   "display_name": "Python 3 (ipykernel)",
   "language": "python",
   "name": "python3"
  },
  "language_info": {
   "codemirror_mode": {
    "name": "ipython",
    "version": 3
   },
   "file_extension": ".py",
   "mimetype": "text/x-python",
   "name": "python",
   "nbconvert_exporter": "python",
   "pygments_lexer": "ipython3",
   "version": "3.9.12"
  },
  "vscode": {
   "interpreter": {
    "hash": "916dbcbb3f70747c44a77c7bcd40155683ae19c65e1c03b4aa3499c5328201f1"
   }
  }
 },
 "nbformat": 4,
 "nbformat_minor": 4
}
