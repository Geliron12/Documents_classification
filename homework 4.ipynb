{
 "cells": [
  {
   "cell_type": "markdown",
   "metadata": {},
   "source": [
    "# Задание 4. Линейная регрессия"
   ]
  },
  {
   "cell_type": "markdown",
   "metadata": {},
   "source": [
    "Данные содержатся в файле `data/lin_reg.txt`. Прочитать их можно следующим так:"
   ]
  },
  {
   "cell_type": "code",
   "execution_count": 67,
   "metadata": {},
   "outputs": [],
   "source": [
    "import numpy as np\n",
    "D = np.loadtxt('lin_reg.txt', delimiter=',')\n",
    "X = D[:, :-1]\n",
    "Y = D[:, -1]"
   ]
  },
  {
   "cell_type": "markdown",
   "metadata": {},
   "source": [
    "При выполнении заданий **нельзя** пользоваться `scikit-learn` и т.п., только `NumPy`/`JAX`/`TF`/`PyTorch` и `matplotlib`/`seaborn`/`plotly`/etc.\n",
    "\n",
    "1. Нарисуйте график среднеквадратичной ошибки в зависимости от параметра регуляризации $\\alpha$, используя полные данные для обучения и для тестирования. \n",
    "2. Подготовьте исходные данные для 5 fold CV.\n",
    "3. С помощью CV найдите оптимальное значение $\\alpha$ на какой-нибудь сетке значений.\n",
    "4. Постройте валидационную кривую. \n",
    "5. Постройте кривую обучения."
   ]
  },
  {
   "cell_type": "markdown",
   "metadata": {},
   "source": [
    "## 1. Нарисуйте график среднеквадратичной ошибки в зависимости от параметра регуляризации $\\alpha$, используя полные данные для обучения и для тестирования. "
   ]
  },
  {
   "cell_type": "code",
   "execution_count": 68,
   "metadata": {},
   "outputs": [],
   "source": [
    "import numpy as np\n",
    "import matplotlib.pyplot as plt\n",
    "import seaborn as sns"
   ]
  },
  {
   "cell_type": "code",
   "execution_count": 69,
   "metadata": {},
   "outputs": [
    {
     "data": {
      "text/plain": [
       "(1000, 4)"
      ]
     },
     "execution_count": 69,
     "metadata": {},
     "output_type": "execute_result"
    }
   ],
   "source": [
    "X.shape"
   ]
  },
  {
   "cell_type": "markdown",
   "metadata": {},
   "source": [
    "Добавляем к данным искусственные еденицы, отвечающие за свободную компоненту"
   ]
  },
  {
   "cell_type": "code",
   "execution_count": 70,
   "metadata": {},
   "outputs": [],
   "source": [
    "X = np.hstack((np.ones(shape=(X.shape[0], 1)), X))"
   ]
  },
  {
   "cell_type": "code",
   "execution_count": 87,
   "metadata": {},
   "outputs": [
    {
     "data": {
      "text/plain": [
       "array([[  1.   ,   9.31 , -17.043,  20.807,  11.109],\n",
       "       [  1.   ,  -6.446, -12.46 , -12.941, -14.715],\n",
       "       [  1.   ,  14.324,  -9.624,  29.533,   1.439],\n",
       "       [  1.   , -19.511,   9.563, -38.774,  -1.116],\n",
       "       [  1.   ,  -5.917,   3.696, -11.428,  13.364],\n",
       "       [  1.   , -11.463,   9.371, -22.557, -17.609],\n",
       "       [  1.   ,  17.629, -16.888,  33.026,  14.852],\n",
       "       [  1.   ,  11.189,   7.402,  22.028, -14.745],\n",
       "       [  1.   , -18.134,  12.168, -34.161,  16.041],\n",
       "       [  1.   ,   2.032,  -3.884,   3.479, -16.396]])"
      ]
     },
     "execution_count": 87,
     "metadata": {},
     "output_type": "execute_result"
    }
   ],
   "source": [
    "X[:10]"
   ]
  },
  {
   "cell_type": "markdown",
   "metadata": {},
   "source": [
    "Среднеквадратичная ошибка"
   ]
  },
  {
   "cell_type": "code",
   "execution_count": 94,
   "metadata": {},
   "outputs": [],
   "source": [
    "def MSE(Y_real, Y_approx):\n",
    "    return((Y_real - Y_approx)**2).mean()"
   ]
  },
  {
   "cell_type": "markdown",
   "metadata": {},
   "source": [
    "Значения из линейной регрессии"
   ]
  },
  {
   "cell_type": "code",
   "execution_count": 95,
   "metadata": {},
   "outputs": [],
   "source": [
    "def F_approx(X, Y, alp):\n",
    "    \n",
    "    # Коэффициенты\n",
    "    theta = np.linalg.inv(X.T @ X + alp * np.identity(X.shape[1])) @ X.T @ Y\n",
    "    # Значения\n",
    "    Y_approx = theta @ X.T\n",
    "    \n",
    "    return Y_approx"
   ]
  },
  {
   "cell_type": "code",
   "execution_count": 98,
   "metadata": {},
   "outputs": [
    {
     "data": {
      "text/plain": [
       "[<matplotlib.lines.Line2D at 0x209ab453ca0>]"
      ]
     },
     "execution_count": 98,
     "metadata": {},
     "output_type": "execute_result"
    },
    {
     "data": {
      "image/png": "[encoded data removed]",
      "text/plain": [
       "<Figure size 432x288 with 1 Axes>"
      ]
     },
     "metadata": {
      "needs_background": "light"
     },
     "output_type": "display_data"
    }
   ],
   "source": [
    "alphs = np.linspace(0, 10, 51)\n",
    "\n",
    "MSEs = [ MSE(Y, F_approx(X, Y, a) ) for a in alphs ]\n",
    "\n",
    "plt.plot(alphs, MSEs)"
   ]
  },
  {
   "cell_type": "markdown",
   "metadata": {},
   "source": [
    "## 2. Подготовьте исходные данные для 5 fold CV."
   ]
  },
  {
   "cell_type": "code",
   "execution_count": 103,
   "metadata": {},
   "outputs": [],
   "source": [
    "def CrossValid(X, Y, k, Trace=False):\n",
    "    \n",
    "    #индексы разбиения\n",
    "    inds = np.intc( np.linspace(0, X.shape[0], k + 1) )\n",
    "    \n",
    "    for i in range( len(inds) - 1 ):\n",
    "        \n",
    "        if (Trace):\n",
    "            print(f\"Validation indices: {inds[i]} - {inds[i+1]}.\")\n",
    "        \n",
    "        X_train = np.vstack([ X[:inds[i]], X[inds[i+1]:] ])\n",
    "        X_val = X[inds[i]:inds[i+1]]\n",
    "        Y_train = np.hstack([ Y[:inds[i]], Y[inds[i+1]:] ])\n",
    "        Y_val = Y[inds[i]:inds[i+1]]\n",
    "        \n",
    "        yield X_train, Y_train, X_val, Y_val"
   ]
  },
  {
   "cell_type": "code",
   "execution_count": 104,
   "metadata": {},
   "outputs": [],
   "source": [
    "Data = CrossValid(X, Y, 5, Trace=True)"
   ]
  },
  {
   "cell_type": "markdown",
   "metadata": {},
   "source": [
    "## 3. С помощью CV найдите оптимальное значение $\\alpha$ на какой-нибудь сетке значений.\n",
    "## 4. Постройте валидационную кривую. \n",
    "## 5. Постройте кривую обучения."
   ]
  },
  {
   "cell_type": "code",
   "execution_count": 108,
   "metadata": {},
   "outputs": [
    {
     "name": "stdout",
     "output_type": "stream",
     "text": [
      "Оптимальное значение параметра на обучении:  0.0\n",
      "Оптимальное значение параметра на валидации:  5.0\n"
     ]
    },
    {
     "data": {
      "image/png": "[encoded data removed]",
      "text/plain": [
       "<Figure size 432x288 with 1 Axes>"
      ]
     },
     "metadata": {
      "needs_background": "light"
     },
     "output_type": "display_data"
    }
   ],
   "source": [
    "alphs = np.linspace(0, 25, 51)\n",
    "MSEs_val = []\n",
    "MSEs_train = []\n",
    "k = 5\n",
    "\n",
    "for alpha in alphas:\n",
    "    mse_val = []\n",
    "    mse_train = []\n",
    "    \n",
    "    for (X_train, Y_train, X_val, Y_val) in CrossValid(X, Y, k = k):\n",
    "        \n",
    "        Y_train_ = approxFunc(X_train, Y_train, alph, X_ = X_train)\n",
    "        Y_val_ = approxFunc(X_train, Y_train, alph, X_ = X_val)\n",
    "        \n",
    "        mse_train.append( MSE(Y_train, Y_train_) )\n",
    "        mse_val.append( MSE(Y_val, Y_val_) )\n",
    "        \n",
    "        \n",
    "    MSEs_train.append(sum(mse_train)/len(mse_train))\n",
    "    MSEs_val.append(sum(mse_val)/len(mse_val))\n",
    "    \n",
    "plt.plot(alphs, MSEs_train, label='Обучение')\n",
    "plt.plot(alphs, MSEs_val, label = 'Валидация')\n",
    "\n",
    "plt.legend()\n",
    "\n",
    "print(\"Оптимальное значение параметра на обучении: \", alphs[np.argmin(MSEs_train)])\n",
    "print(\"Оптимальное значение параметра на валидации: \", alphs[np.argmin(MSEs_val)])"
   ]
  },
  {
   "cell_type": "code",
   "execution_count": null,
   "metadata": {},
   "outputs": [],
   "source": []
  }
 ],
 "metadata": {
  "kernelspec": {
   "display_name": "Python 3 (ipykernel)",
   "language": "python",
   "name": "python3"
  },
  "language_info": {
   "codemirror_mode": {
    "name": "ipython",
    "version": 3
   },
   "file_extension": ".py",
   "mimetype": "text/x-python",
   "name": "python",
   "nbconvert_exporter": "python",
   "pygments_lexer": "ipython3",
   "version": "3.9.12"
  },
  "vscode": {
   "interpreter": {
    "hash": "916dbcbb3f70747c44a77c7bcd40155683ae19c65e1c03b4aa3499c5328201f1"
   }
  }
 },
 "nbformat": 4,
 "nbformat_minor": 4
}
