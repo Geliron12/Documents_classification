{
 "cells": [
  {
   "cell_type": "markdown",
   "metadata": {},
   "source": [
    "# Задание 5. Извлечение данных "
   ]
  },
  {
   "cell_type": "markdown",
   "metadata": {},
   "source": [
    "## Задание 5.1\n",
    "\n",
    "Напишите скрипт, который скачивает  сообщения с Телеграм-канала https://t.me/Sputnik_results . Сохраните сообщения в формате по вашему выбору (.csv, .jsonl, sqlite, parquet, и т.д.). Откройте с помощью Pandas или аналогичных библиотек, постройте график числа сообщений в зависимости от даты. "
   ]
  },
  {
   "cell_type": "markdown",
   "metadata": {},
   "source": [
    "Используя скрипт parser.py получаем сообщения из чата в формате csv - chat.csv"
   ]
  },
  {
   "cell_type": "code",
   "execution_count": 1,
   "metadata": {},
   "outputs": [],
   "source": [
    "import pandas as pd\n",
    "import matplotlib.pyplot as plt\n",
    "import seaborn as sns"
   ]
  },
  {
   "cell_type": "code",
   "execution_count": 2,
   "metadata": {},
   "outputs": [],
   "source": [
    "chats_df = pd.read_csv('chats.csv')"
   ]
  },
  {
   "cell_type": "code",
   "execution_count": 3,
   "metadata": {},
   "outputs": [
    {
     "data": {
      "text/html": [
       "<div>\n",
       "<style scoped>\n",
       "    .dataframe tbody tr th:only-of-type {\n",
       "        vertical-align: middle;\n",
       "    }\n",
       "\n",
       "    .dataframe tbody tr th {\n",
       "        vertical-align: top;\n",
       "    }\n",
       "\n",
       "    .dataframe thead th {\n",
       "        text-align: right;\n",
       "    }\n",
       "</style>\n",
       "<table border=\"1\" class=\"dataframe\">\n",
       "  <thead>\n",
       "    <tr style=\"text-align: right;\">\n",
       "      <th></th>\n",
       "      <th>message</th>\n",
       "      <th>date</th>\n",
       "    </tr>\n",
       "  </thead>\n",
       "  <tbody>\n",
       "    <tr>\n",
       "      <th>0</th>\n",
       "      <td>Народные отчеты о вакцинации\\r\\n\\r\\n⚠️ ТОЛЬКО ...</td>\n",
       "      <td>2023-01-05 21:00:00+00:00</td>\n",
       "    </tr>\n",
       "    <tr>\n",
       "      <th>1</th>\n",
       "      <td>📣 ВЕСТНИК V1V2.ru выпуск #70 от 09.12.2022@09:...</td>\n",
       "      <td>2023-01-02 06:30:00+00:00</td>\n",
       "    </tr>\n",
       "    <tr>\n",
       "      <th>2</th>\n",
       "      <td>Ж, 20 лет, умеренный аллергик. Сделала Спутник...</td>\n",
       "      <td>2023-01-02 00:32:16+00:00</td>\n",
       "    </tr>\n",
       "    <tr>\n",
       "      <th>3</th>\n",
       "      <td>M40, без хронических болезней, в феврале 2022 ...</td>\n",
       "      <td>2022-12-31 19:53:12+00:00</td>\n",
       "    </tr>\n",
       "    <tr>\n",
       "      <th>4</th>\n",
       "      <td>#ревак #назально #спутник\\r\\n\\r\\nЖ53, ковидом ...</td>\n",
       "      <td>2022-12-31 14:06:17+00:00</td>\n",
       "    </tr>\n",
       "  </tbody>\n",
       "</table>\n",
       "</div>"
      ],
      "text/plain": [
       "                                             message  \\\n",
       "0  Народные отчеты о вакцинации\\r\\n\\r\\n⚠️ ТОЛЬКО ...   \n",
       "1  📣 ВЕСТНИК V1V2.ru выпуск #70 от 09.12.2022@09:...   \n",
       "2  Ж, 20 лет, умеренный аллергик. Сделала Спутник...   \n",
       "3  M40, без хронических болезней, в феврале 2022 ...   \n",
       "4  #ревак #назально #спутник\\r\\n\\r\\nЖ53, ковидом ...   \n",
       "\n",
       "                        date  \n",
       "0  2023-01-05 21:00:00+00:00  \n",
       "1  2023-01-02 06:30:00+00:00  \n",
       "2  2023-01-02 00:32:16+00:00  \n",
       "3  2022-12-31 19:53:12+00:00  \n",
       "4  2022-12-31 14:06:17+00:00  "
      ]
     },
     "execution_count": 3,
     "metadata": {},
     "output_type": "execute_result"
    }
   ],
   "source": [
    "chats_df.head()"
   ]
  },
  {
   "cell_type": "markdown",
   "metadata": {},
   "source": [
    "Переводим в формат даты"
   ]
  },
  {
   "cell_type": "code",
   "execution_count": 4,
   "metadata": {},
   "outputs": [],
   "source": [
    "chats_df.date = pd.to_datetime(chats_df.date).dt.date"
   ]
  },
  {
   "cell_type": "markdown",
   "metadata": {},
   "source": [
    "удаляем объекты типа Nan"
   ]
  },
  {
   "cell_type": "code",
   "execution_count": 5,
   "metadata": {},
   "outputs": [
    {
     "data": {
      "text/html": [
       "<div>\n",
       "<style scoped>\n",
       "    .dataframe tbody tr th:only-of-type {\n",
       "        vertical-align: middle;\n",
       "    }\n",
       "\n",
       "    .dataframe tbody tr th {\n",
       "        vertical-align: top;\n",
       "    }\n",
       "\n",
       "    .dataframe thead th {\n",
       "        text-align: right;\n",
       "    }\n",
       "</style>\n",
       "<table border=\"1\" class=\"dataframe\">\n",
       "  <thead>\n",
       "    <tr style=\"text-align: right;\">\n",
       "      <th></th>\n",
       "      <th>message</th>\n",
       "      <th>date</th>\n",
       "    </tr>\n",
       "  </thead>\n",
       "  <tbody>\n",
       "    <tr>\n",
       "      <th>0</th>\n",
       "      <td>Народные отчеты о вакцинации\\r\\n\\r\\n⚠️ ТОЛЬКО ...</td>\n",
       "      <td>2023-01-05</td>\n",
       "    </tr>\n",
       "    <tr>\n",
       "      <th>1</th>\n",
       "      <td>📣 ВЕСТНИК V1V2.ru выпуск #70 от 09.12.2022@09:...</td>\n",
       "      <td>2023-01-02</td>\n",
       "    </tr>\n",
       "    <tr>\n",
       "      <th>2</th>\n",
       "      <td>Ж, 20 лет, умеренный аллергик. Сделала Спутник...</td>\n",
       "      <td>2023-01-02</td>\n",
       "    </tr>\n",
       "    <tr>\n",
       "      <th>3</th>\n",
       "      <td>M40, без хронических болезней, в феврале 2022 ...</td>\n",
       "      <td>2022-12-31</td>\n",
       "    </tr>\n",
       "    <tr>\n",
       "      <th>4</th>\n",
       "      <td>#ревак #назально #спутник\\r\\n\\r\\nЖ53, ковидом ...</td>\n",
       "      <td>2022-12-31</td>\n",
       "    </tr>\n",
       "    <tr>\n",
       "      <th>...</th>\n",
       "      <td>...</td>\n",
       "      <td>...</td>\n",
       "    </tr>\n",
       "    <tr>\n",
       "      <th>31672</th>\n",
       "      <td>Есть примеры, уже появлялись</td>\n",
       "      <td>2020-12-09</td>\n",
       "    </tr>\n",
       "    <tr>\n",
       "      <th>31673</th>\n",
       "      <td>Если денег не жалко</td>\n",
       "      <td>2020-12-09</td>\n",
       "    </tr>\n",
       "    <tr>\n",
       "      <th>31674</th>\n",
       "      <td>Не рано?</td>\n",
       "      <td>2020-12-09</td>\n",
       "    </tr>\n",
       "    <tr>\n",
       "      <th>31675</th>\n",
       "      <td>Через 2 недели обычно сдают</td>\n",
       "      <td>2020-12-09</td>\n",
       "    </tr>\n",
       "    <tr>\n",
       "      <th>31678</th>\n",
       "      <td>Первые вакцины вкололи 5 дней назад, будем ски...</td>\n",
       "      <td>2020-12-09</td>\n",
       "    </tr>\n",
       "  </tbody>\n",
       "</table>\n",
       "<p>23377 rows × 2 columns</p>\n",
       "</div>"
      ],
      "text/plain": [
       "                                                 message        date\n",
       "0      Народные отчеты о вакцинации\\r\\n\\r\\n⚠️ ТОЛЬКО ...  2023-01-05\n",
       "1      📣 ВЕСТНИК V1V2.ru выпуск #70 от 09.12.2022@09:...  2023-01-02\n",
       "2      Ж, 20 лет, умеренный аллергик. Сделала Спутник...  2023-01-02\n",
       "3      M40, без хронических болезней, в феврале 2022 ...  2022-12-31\n",
       "4      #ревак #назально #спутник\\r\\n\\r\\nЖ53, ковидом ...  2022-12-31\n",
       "...                                                  ...         ...\n",
       "31672                       Есть примеры, уже появлялись  2020-12-09\n",
       "31673                                Если денег не жалко  2020-12-09\n",
       "31674                                           Не рано?  2020-12-09\n",
       "31675                        Через 2 недели обычно сдают  2020-12-09\n",
       "31678  Первые вакцины вкололи 5 дней назад, будем ски...  2020-12-09\n",
       "\n",
       "[23377 rows x 2 columns]"
      ]
     },
     "execution_count": 5,
     "metadata": {},
     "output_type": "execute_result"
    }
   ],
   "source": [
    "chats_df = chats_df.dropna()\n",
    "chats_df"
   ]
  },
  {
   "cell_type": "markdown",
   "metadata": {},
   "source": [
    "График числа сообщений по датам"
   ]
  },
  {
   "cell_type": "code",
   "execution_count": 6,
   "metadata": {},
   "outputs": [],
   "source": [
    "a = chats_df.groupby('date').count()"
   ]
  },
  {
   "cell_type": "code",
   "execution_count": 7,
   "metadata": {},
   "outputs": [
    {
     "data": {
      "image/png": "[encoded data removed]",
      "text/plain": [
       "<Figure size 1440x720 with 1 Axes>"
      ]
     },
     "metadata": {
      "needs_background": "light"
     },
     "output_type": "display_data"
    }
   ],
   "source": [
    "a.plot(figsize=(20,10))\n",
    "plt.grid()"
   ]
  },
  {
   "cell_type": "markdown",
   "metadata": {},
   "source": [
    "## Задание 5.2\n",
    "1.Напишите функции для извлечения данных из сообщений:\n",
    "   - пол участника\n",
    "   - возраст участника\n",
    "\n",
    "   Постройте диаграммы для визуализации. \n",
    "\n",
    "2.Реализуйте какой-либо анализ этих данных на ваше усмотрение. Например их можно кластеризовать и интерпретировать кластеры, или попробовать выделить статистику по среднему количеству антител в зависимости от возраста, или посчитать количество заболевших после вакцинации. Обязательна визуализация. "
   ]
  },
  {
   "cell_type": "code",
   "execution_count": 8,
   "metadata": {},
   "outputs": [],
   "source": [
    "import re"
   ]
  },
  {
   "cell_type": "code",
   "execution_count": 143,
   "metadata": {},
   "outputs": [],
   "source": [
    "def age_and_sex(inp_str):\n",
    "    q1 = re.search(r'(Ж|М|M)(,|.)\\s*\\d+',inp_str)\n",
    "    q2 = re.search(r'(Жен|Муж)(,|.)\\s*\\d+',inp_str)\n",
    "    q3 = re.search(r'(Женщина|Мужчина)(,|.)\\s*\\d+',inp_str)\n",
    "    ans = q1 or q2 or q3\n",
    "    if ans is None:\n",
    "        return (None,None)\n",
    "    else:\n",
    "        ans = ans.group(0)\n",
    "        age = int(re.search(r'\\d+',ans).group(0))\n",
    "        if age >100:\n",
    "            return(None,None)\n",
    "        if ans[0]=='M':\n",
    "            return('М',age)\n",
    "        else:\n",
    "            return (ans[0],age)"
   ]
  },
  {
   "cell_type": "code",
   "execution_count": 144,
   "metadata": {},
   "outputs": [],
   "source": [
    "chats_df['sex'],chats_df['age'] =  zip(*chats_df['message'].map(age_and_sex))"
   ]
  },
  {
   "cell_type": "code",
   "execution_count": 145,
   "metadata": {
    "scrolled": false
   },
   "outputs": [
    {
     "data": {
      "text/html": [
       "<div>\n",
       "<style scoped>\n",
       "    .dataframe tbody tr th:only-of-type {\n",
       "        vertical-align: middle;\n",
       "    }\n",
       "\n",
       "    .dataframe tbody tr th {\n",
       "        vertical-align: top;\n",
       "    }\n",
       "\n",
       "    .dataframe thead th {\n",
       "        text-align: right;\n",
       "    }\n",
       "</style>\n",
       "<table border=\"1\" class=\"dataframe\">\n",
       "  <thead>\n",
       "    <tr style=\"text-align: right;\">\n",
       "      <th></th>\n",
       "      <th>message</th>\n",
       "      <th>date</th>\n",
       "      <th>sex</th>\n",
       "      <th>age</th>\n",
       "      <th>headache</th>\n",
       "      <th>BAU</th>\n",
       "    </tr>\n",
       "  </thead>\n",
       "  <tbody>\n",
       "    <tr>\n",
       "      <th>0</th>\n",
       "      <td>Народные отчеты о вакцинации\\r\\n\\r\\n⚠️ ТОЛЬКО ...</td>\n",
       "      <td>2023-01-05</td>\n",
       "      <td>None</td>\n",
       "      <td>NaN</td>\n",
       "      <td>Головной боли не было</td>\n",
       "      <td>NaN</td>\n",
       "    </tr>\n",
       "    <tr>\n",
       "      <th>1</th>\n",
       "      <td>📣 ВЕСТНИК V1V2.ru выпуск #70 от 09.12.2022@09:...</td>\n",
       "      <td>2023-01-02</td>\n",
       "      <td>None</td>\n",
       "      <td>NaN</td>\n",
       "      <td>Головной боли не было</td>\n",
       "      <td>NaN</td>\n",
       "    </tr>\n",
       "    <tr>\n",
       "      <th>2</th>\n",
       "      <td>Ж, 20 лет, умеренный аллергик. Сделала Спутник...</td>\n",
       "      <td>2023-01-02</td>\n",
       "      <td>Ж</td>\n",
       "      <td>20.0</td>\n",
       "      <td>Головной боли не было</td>\n",
       "      <td>NaN</td>\n",
       "    </tr>\n",
       "    <tr>\n",
       "      <th>3</th>\n",
       "      <td>M40, без хронических болезней, в феврале 2022 ...</td>\n",
       "      <td>2022-12-31</td>\n",
       "      <td>М</td>\n",
       "      <td>40.0</td>\n",
       "      <td>Головной боли не было</td>\n",
       "      <td>NaN</td>\n",
       "    </tr>\n",
       "    <tr>\n",
       "      <th>4</th>\n",
       "      <td>#ревак #назально #спутник\\r\\n\\r\\nЖ53, ковидом ...</td>\n",
       "      <td>2022-12-31</td>\n",
       "      <td>Ж</td>\n",
       "      <td>53.0</td>\n",
       "      <td>Головной боли не было</td>\n",
       "      <td>504.94</td>\n",
       "    </tr>\n",
       "    <tr>\n",
       "      <th>5</th>\n",
       "      <td>Пол, возраст, наличие хр.заболеваний укажите, ...</td>\n",
       "      <td>2022-12-28</td>\n",
       "      <td>None</td>\n",
       "      <td>NaN</td>\n",
       "      <td>Головной боли не было</td>\n",
       "      <td>NaN</td>\n",
       "    </tr>\n",
       "    <tr>\n",
       "      <th>6</th>\n",
       "      <td>Конвасэл до сих пор не даёт полноценный QR код...</td>\n",
       "      <td>2022-12-27</td>\n",
       "      <td>None</td>\n",
       "      <td>NaN</td>\n",
       "      <td>Головной боли не было</td>\n",
       "      <td>NaN</td>\n",
       "    </tr>\n",
       "    <tr>\n",
       "      <th>7</th>\n",
       "      <td>Dima32 Данный чат предназначен только для отчё...</td>\n",
       "      <td>2022-12-27</td>\n",
       "      <td>None</td>\n",
       "      <td>NaN</td>\n",
       "      <td>Головной боли не было</td>\n",
       "      <td>NaN</td>\n",
       "    </tr>\n",
       "    <tr>\n",
       "      <th>8</th>\n",
       "      <td>#назально #ревак #спутник-V\\r\\nМ33. 1 комп.: л...</td>\n",
       "      <td>2022-12-25</td>\n",
       "      <td>М</td>\n",
       "      <td>33.0</td>\n",
       "      <td>Была головная боль</td>\n",
       "      <td>NaN</td>\n",
       "    </tr>\n",
       "    <tr>\n",
       "      <th>9</th>\n",
       "      <td>#ревак #назально  первый этап 12.09, второй эт...</td>\n",
       "      <td>2022-12-23</td>\n",
       "      <td>None</td>\n",
       "      <td>NaN</td>\n",
       "      <td>Головной боли не было</td>\n",
       "      <td>NaN</td>\n",
       "    </tr>\n",
       "    <tr>\n",
       "      <th>10</th>\n",
       "      <td>#назально #ревак. Ж35. Хр. Заболевания: полива...</td>\n",
       "      <td>2022-12-19</td>\n",
       "      <td>Ж</td>\n",
       "      <td>35.0</td>\n",
       "      <td>Головной боли не было</td>\n",
       "      <td>NaN</td>\n",
       "    </tr>\n",
       "    <tr>\n",
       "      <th>11</th>\n",
       "      <td>#ревак #назально\\r\\n11.12.22. Гум, Спутник+Уль...</td>\n",
       "      <td>2022-12-16</td>\n",
       "      <td>Ж</td>\n",
       "      <td>45.0</td>\n",
       "      <td>Головной боли не было</td>\n",
       "      <td>NaN</td>\n",
       "    </tr>\n",
       "    <tr>\n",
       "      <th>12</th>\n",
       "      <td>#дети\\r\\nМ 13 лет.  спутник м. \\r\\n1я доза 23....</td>\n",
       "      <td>2022-12-12</td>\n",
       "      <td>М</td>\n",
       "      <td>13.0</td>\n",
       "      <td>Была головная боль</td>\n",
       "      <td>NaN</td>\n",
       "    </tr>\n",
       "    <tr>\n",
       "      <th>13</th>\n",
       "      <td>#ревак  #назально  #спутник \\r\\nМ 49 вторая до...</td>\n",
       "      <td>2022-12-09</td>\n",
       "      <td>М</td>\n",
       "      <td>49.0</td>\n",
       "      <td>Головной боли не было</td>\n",
       "      <td>NaN</td>\n",
       "    </tr>\n",
       "    <tr>\n",
       "      <th>14</th>\n",
       "      <td>Уточните даты вакцинации, пожалуйста. Если ваш...</td>\n",
       "      <td>2022-12-07</td>\n",
       "      <td>None</td>\n",
       "      <td>NaN</td>\n",
       "      <td>Головной боли не было</td>\n",
       "      <td>NaN</td>\n",
       "    </tr>\n",
       "    <tr>\n",
       "      <th>15</th>\n",
       "      <td>Дополняю и обобщаю:\\r\\n#ревак\\r\\nМоя мама\\r\\nЖ...</td>\n",
       "      <td>2022-12-04</td>\n",
       "      <td>Ж</td>\n",
       "      <td>88.0</td>\n",
       "      <td>Головной боли не было</td>\n",
       "      <td>665.00</td>\n",
       "    </tr>\n",
       "    <tr>\n",
       "      <th>16</th>\n",
       "      <td>Еще дополняю и обобщаю\\r\\n#ревак #назально\\r\\n...</td>\n",
       "      <td>2022-12-04</td>\n",
       "      <td>Ж</td>\n",
       "      <td>51.0</td>\n",
       "      <td>Головной боли не было</td>\n",
       "      <td>313.00</td>\n",
       "    </tr>\n",
       "    <tr>\n",
       "      <th>17</th>\n",
       "      <td>#назально #ревак\\r\\nЖ37, без хронических. Кови...</td>\n",
       "      <td>2022-11-30</td>\n",
       "      <td>Ж</td>\n",
       "      <td>37.0</td>\n",
       "      <td>Была головная боль</td>\n",
       "      <td>NaN</td>\n",
       "    </tr>\n",
       "    <tr>\n",
       "      <th>18</th>\n",
       "      <td>#ревак #назально #спутник #гуммосква\\r\\nЖ50, с...</td>\n",
       "      <td>2022-11-30</td>\n",
       "      <td>Ж</td>\n",
       "      <td>50.0</td>\n",
       "      <td>Головной боли не было</td>\n",
       "      <td>NaN</td>\n",
       "    </tr>\n",
       "    <tr>\n",
       "      <th>19</th>\n",
       "      <td>Ковид19 26.11.22 от заболевших родителей. (Аль...</td>\n",
       "      <td>2022-11-30</td>\n",
       "      <td>None</td>\n",
       "      <td>NaN</td>\n",
       "      <td>Головной боли не было</td>\n",
       "      <td>NaN</td>\n",
       "    </tr>\n",
       "  </tbody>\n",
       "</table>\n",
       "</div>"
      ],
      "text/plain": [
       "                                              message        date   sex   age  \\\n",
       "0   Народные отчеты о вакцинации\\r\\n\\r\\n⚠️ ТОЛЬКО ...  2023-01-05  None   NaN   \n",
       "1   📣 ВЕСТНИК V1V2.ru выпуск #70 от 09.12.2022@09:...  2023-01-02  None   NaN   \n",
       "2   Ж, 20 лет, умеренный аллергик. Сделала Спутник...  2023-01-02     Ж  20.0   \n",
       "3   M40, без хронических болезней, в феврале 2022 ...  2022-12-31     М  40.0   \n",
       "4   #ревак #назально #спутник\\r\\n\\r\\nЖ53, ковидом ...  2022-12-31     Ж  53.0   \n",
       "5   Пол, возраст, наличие хр.заболеваний укажите, ...  2022-12-28  None   NaN   \n",
       "6   Конвасэл до сих пор не даёт полноценный QR код...  2022-12-27  None   NaN   \n",
       "7   Dima32 Данный чат предназначен только для отчё...  2022-12-27  None   NaN   \n",
       "8   #назально #ревак #спутник-V\\r\\nМ33. 1 комп.: л...  2022-12-25     М  33.0   \n",
       "9   #ревак #назально  первый этап 12.09, второй эт...  2022-12-23  None   NaN   \n",
       "10  #назально #ревак. Ж35. Хр. Заболевания: полива...  2022-12-19     Ж  35.0   \n",
       "11  #ревак #назально\\r\\n11.12.22. Гум, Спутник+Уль...  2022-12-16     Ж  45.0   \n",
       "12  #дети\\r\\nМ 13 лет.  спутник м. \\r\\n1я доза 23....  2022-12-12     М  13.0   \n",
       "13  #ревак  #назально  #спутник \\r\\nМ 49 вторая до...  2022-12-09     М  49.0   \n",
       "14  Уточните даты вакцинации, пожалуйста. Если ваш...  2022-12-07  None   NaN   \n",
       "15  Дополняю и обобщаю:\\r\\n#ревак\\r\\nМоя мама\\r\\nЖ...  2022-12-04     Ж  88.0   \n",
       "16  Еще дополняю и обобщаю\\r\\n#ревак #назально\\r\\n...  2022-12-04     Ж  51.0   \n",
       "17  #назально #ревак\\r\\nЖ37, без хронических. Кови...  2022-11-30     Ж  37.0   \n",
       "18  #ревак #назально #спутник #гуммосква\\r\\nЖ50, с...  2022-11-30     Ж  50.0   \n",
       "19  Ковид19 26.11.22 от заболевших родителей. (Аль...  2022-11-30  None   NaN   \n",
       "\n",
       "                 headache     BAU  \n",
       "0   Головной боли не было     NaN  \n",
       "1   Головной боли не было     NaN  \n",
       "2   Головной боли не было     NaN  \n",
       "3   Головной боли не было     NaN  \n",
       "4   Головной боли не было  504.94  \n",
       "5   Головной боли не было     NaN  \n",
       "6   Головной боли не было     NaN  \n",
       "7   Головной боли не было     NaN  \n",
       "8      Была головная боль     NaN  \n",
       "9   Головной боли не было     NaN  \n",
       "10  Головной боли не было     NaN  \n",
       "11  Головной боли не было     NaN  \n",
       "12     Была головная боль     NaN  \n",
       "13  Головной боли не было     NaN  \n",
       "14  Головной боли не было     NaN  \n",
       "15  Головной боли не было  665.00  \n",
       "16  Головной боли не было  313.00  \n",
       "17     Была головная боль     NaN  \n",
       "18  Головной боли не было     NaN  \n",
       "19  Головной боли не было     NaN  "
      ]
     },
     "execution_count": 145,
     "metadata": {},
     "output_type": "execute_result"
    }
   ],
   "source": [
    "chats_df[:20]"
   ]
  },
  {
   "cell_type": "markdown",
   "metadata": {},
   "source": [
    "Столбцовые диаграммы распределения участников чата по полу"
   ]
  },
  {
   "cell_type": "code",
   "execution_count": 146,
   "metadata": {},
   "outputs": [],
   "source": [
    "sex_repr = chats_df[chats_df['sex']!=None].groupby('sex').count()"
   ]
  },
  {
   "cell_type": "code",
   "execution_count": 147,
   "metadata": {},
   "outputs": [
    {
     "data": {
      "text/plain": [
       "sex\n",
       "Ж    9626\n",
       "М    6329\n",
       "Name: message, dtype: int64"
      ]
     },
     "execution_count": 147,
     "metadata": {},
     "output_type": "execute_result"
    }
   ],
   "source": [
    "sex_repr['message']"
   ]
  },
  {
   "cell_type": "code",
   "execution_count": 148,
   "metadata": {},
   "outputs": [
    {
     "data": {
      "text/plain": [
       "<AxesSubplot:xlabel='sex'>"
      ]
     },
     "execution_count": 148,
     "metadata": {},
     "output_type": "execute_result"
    },
    {
     "data": {
      "image/png": "[encoded data removed]",
      "text/plain": [
       "<Figure size 432x288 with 1 Axes>"
      ]
     },
     "metadata": {
      "needs_background": "light"
     },
     "output_type": "display_data"
    }
   ],
   "source": [
    "sex_repr['message'].plot.bar(color=['b','g'])"
   ]
  },
  {
   "cell_type": "markdown",
   "metadata": {},
   "source": [
    "Распределение участников чата по возрасту"
   ]
  },
  {
   "cell_type": "code",
   "execution_count": 149,
   "metadata": {},
   "outputs": [],
   "source": [
    "age_repr = chats_df[chats_df['age']!=None].groupby('age').count()"
   ]
  },
  {
   "cell_type": "code",
   "execution_count": 150,
   "metadata": {},
   "outputs": [
    {
     "data": {
      "text/plain": [
       "<AxesSubplot:xlabel='age'>"
      ]
     },
     "execution_count": 150,
     "metadata": {},
     "output_type": "execute_result"
    },
    {
     "data": {
      "image/png": "[encoded data removed]",
      "text/plain": [
       "<Figure size 864x504 with 1 Axes>"
      ]
     },
     "metadata": {
      "needs_background": "light"
     },
     "output_type": "display_data"
    }
   ],
   "source": [
    "age_repr['message'].plot(figsize=[12,7],grid='True')"
   ]
  },
  {
   "cell_type": "markdown",
   "metadata": {},
   "source": [
    "Была ли у человека головная боль?"
   ]
  },
  {
   "cell_type": "code",
   "execution_count": 151,
   "metadata": {},
   "outputs": [],
   "source": [
    "def find_headache(message):\n",
    "    q1 = re.search(r'(г|Г)оловная боль',message)\n",
    "    if q1:\n",
    "        return ('Была головная боль')\n",
    "    else:\n",
    "        return('Головной боли не было')\n",
    "        "
   ]
  },
  {
   "cell_type": "code",
   "execution_count": 152,
   "metadata": {},
   "outputs": [],
   "source": [
    "chats_df['headache'] = chats_df['message'].map(find_headache)"
   ]
  },
  {
   "cell_type": "code",
   "execution_count": 153,
   "metadata": {},
   "outputs": [
    {
     "data": {
      "text/html": [
       "<div>\n",
       "<style scoped>\n",
       "    .dataframe tbody tr th:only-of-type {\n",
       "        vertical-align: middle;\n",
       "    }\n",
       "\n",
       "    .dataframe tbody tr th {\n",
       "        vertical-align: top;\n",
       "    }\n",
       "\n",
       "    .dataframe thead th {\n",
       "        text-align: right;\n",
       "    }\n",
       "</style>\n",
       "<table border=\"1\" class=\"dataframe\">\n",
       "  <thead>\n",
       "    <tr style=\"text-align: right;\">\n",
       "      <th></th>\n",
       "      <th>message</th>\n",
       "      <th>date</th>\n",
       "      <th>sex</th>\n",
       "      <th>age</th>\n",
       "      <th>headache</th>\n",
       "      <th>BAU</th>\n",
       "    </tr>\n",
       "  </thead>\n",
       "  <tbody>\n",
       "    <tr>\n",
       "      <th>0</th>\n",
       "      <td>Народные отчеты о вакцинации\\r\\n\\r\\n⚠️ ТОЛЬКО ...</td>\n",
       "      <td>2023-01-05</td>\n",
       "      <td>None</td>\n",
       "      <td>NaN</td>\n",
       "      <td>Головной боли не было</td>\n",
       "      <td>NaN</td>\n",
       "    </tr>\n",
       "    <tr>\n",
       "      <th>1</th>\n",
       "      <td>📣 ВЕСТНИК V1V2.ru выпуск #70 от 09.12.2022@09:...</td>\n",
       "      <td>2023-01-02</td>\n",
       "      <td>None</td>\n",
       "      <td>NaN</td>\n",
       "      <td>Головной боли не было</td>\n",
       "      <td>NaN</td>\n",
       "    </tr>\n",
       "    <tr>\n",
       "      <th>2</th>\n",
       "      <td>Ж, 20 лет, умеренный аллергик. Сделала Спутник...</td>\n",
       "      <td>2023-01-02</td>\n",
       "      <td>Ж</td>\n",
       "      <td>20.0</td>\n",
       "      <td>Головной боли не было</td>\n",
       "      <td>NaN</td>\n",
       "    </tr>\n",
       "    <tr>\n",
       "      <th>3</th>\n",
       "      <td>M40, без хронических болезней, в феврале 2022 ...</td>\n",
       "      <td>2022-12-31</td>\n",
       "      <td>М</td>\n",
       "      <td>40.0</td>\n",
       "      <td>Головной боли не было</td>\n",
       "      <td>NaN</td>\n",
       "    </tr>\n",
       "    <tr>\n",
       "      <th>4</th>\n",
       "      <td>#ревак #назально #спутник\\r\\n\\r\\nЖ53, ковидом ...</td>\n",
       "      <td>2022-12-31</td>\n",
       "      <td>Ж</td>\n",
       "      <td>53.0</td>\n",
       "      <td>Головной боли не было</td>\n",
       "      <td>504.94</td>\n",
       "    </tr>\n",
       "    <tr>\n",
       "      <th>...</th>\n",
       "      <td>...</td>\n",
       "      <td>...</td>\n",
       "      <td>...</td>\n",
       "      <td>...</td>\n",
       "      <td>...</td>\n",
       "      <td>...</td>\n",
       "    </tr>\n",
       "    <tr>\n",
       "      <th>31672</th>\n",
       "      <td>Есть примеры, уже появлялись</td>\n",
       "      <td>2020-12-09</td>\n",
       "      <td>None</td>\n",
       "      <td>NaN</td>\n",
       "      <td>Головной боли не было</td>\n",
       "      <td>NaN</td>\n",
       "    </tr>\n",
       "    <tr>\n",
       "      <th>31673</th>\n",
       "      <td>Если денег не жалко</td>\n",
       "      <td>2020-12-09</td>\n",
       "      <td>None</td>\n",
       "      <td>NaN</td>\n",
       "      <td>Головной боли не было</td>\n",
       "      <td>NaN</td>\n",
       "    </tr>\n",
       "    <tr>\n",
       "      <th>31674</th>\n",
       "      <td>Не рано?</td>\n",
       "      <td>2020-12-09</td>\n",
       "      <td>None</td>\n",
       "      <td>NaN</td>\n",
       "      <td>Головной боли не было</td>\n",
       "      <td>NaN</td>\n",
       "    </tr>\n",
       "    <tr>\n",
       "      <th>31675</th>\n",
       "      <td>Через 2 недели обычно сдают</td>\n",
       "      <td>2020-12-09</td>\n",
       "      <td>None</td>\n",
       "      <td>NaN</td>\n",
       "      <td>Головной боли не было</td>\n",
       "      <td>NaN</td>\n",
       "    </tr>\n",
       "    <tr>\n",
       "      <th>31678</th>\n",
       "      <td>Первые вакцины вкололи 5 дней назад, будем ски...</td>\n",
       "      <td>2020-12-09</td>\n",
       "      <td>None</td>\n",
       "      <td>NaN</td>\n",
       "      <td>Головной боли не было</td>\n",
       "      <td>NaN</td>\n",
       "    </tr>\n",
       "  </tbody>\n",
       "</table>\n",
       "<p>23377 rows × 6 columns</p>\n",
       "</div>"
      ],
      "text/plain": [
       "                                                 message        date   sex  \\\n",
       "0      Народные отчеты о вакцинации\\r\\n\\r\\n⚠️ ТОЛЬКО ...  2023-01-05  None   \n",
       "1      📣 ВЕСТНИК V1V2.ru выпуск #70 от 09.12.2022@09:...  2023-01-02  None   \n",
       "2      Ж, 20 лет, умеренный аллергик. Сделала Спутник...  2023-01-02     Ж   \n",
       "3      M40, без хронических болезней, в феврале 2022 ...  2022-12-31     М   \n",
       "4      #ревак #назально #спутник\\r\\n\\r\\nЖ53, ковидом ...  2022-12-31     Ж   \n",
       "...                                                  ...         ...   ...   \n",
       "31672                       Есть примеры, уже появлялись  2020-12-09  None   \n",
       "31673                                Если денег не жалко  2020-12-09  None   \n",
       "31674                                           Не рано?  2020-12-09  None   \n",
       "31675                        Через 2 недели обычно сдают  2020-12-09  None   \n",
       "31678  Первые вакцины вкололи 5 дней назад, будем ски...  2020-12-09  None   \n",
       "\n",
       "        age               headache     BAU  \n",
       "0       NaN  Головной боли не было     NaN  \n",
       "1       NaN  Головной боли не было     NaN  \n",
       "2      20.0  Головной боли не было     NaN  \n",
       "3      40.0  Головной боли не было     NaN  \n",
       "4      53.0  Головной боли не было  504.94  \n",
       "...     ...                    ...     ...  \n",
       "31672   NaN  Головной боли не было     NaN  \n",
       "31673   NaN  Головной боли не было     NaN  \n",
       "31674   NaN  Головной боли не было     NaN  \n",
       "31675   NaN  Головной боли не было     NaN  \n",
       "31678   NaN  Головной боли не было     NaN  \n",
       "\n",
       "[23377 rows x 6 columns]"
      ]
     },
     "execution_count": 153,
     "metadata": {},
     "output_type": "execute_result"
    }
   ],
   "source": [
    "chats_df"
   ]
  },
  {
   "cell_type": "code",
   "execution_count": 164,
   "metadata": {},
   "outputs": [
    {
     "data": {
      "text/plain": [
       "<AxesSubplot:>"
      ]
     },
     "execution_count": 164,
     "metadata": {},
     "output_type": "execute_result"
    },
    {
     "data": {
      "image/png": "[encoded data removed]",
      "text/plain": [
       "<Figure size 432x288 with 1 Axes>"
      ]
     },
     "metadata": {
      "needs_background": "light"
     },
     "output_type": "display_data"
    }
   ],
   "source": [
    "chats_df['headache'].value_counts().plot.bar(color=['b','g'])"
   ]
  },
  {
   "cell_type": "markdown",
   "metadata": {},
   "source": [
    "Число антител в зависимости от возраста"
   ]
  },
  {
   "cell_type": "code",
   "execution_count": 155,
   "metadata": {},
   "outputs": [],
   "source": [
    "def BAU(message):\n",
    "    q = re.search(r'\\d+(.|,)\\d*\\s(BAU|(B|b)au|(Б|б)ау)',message)\n",
    "    \n",
    "    if q:\n",
    "        ans = re.sub(',','.',q.group(0).split(' ')[0])\n",
    "        if re.search(r'\\*',ans):\n",
    "            return None\n",
    "        if re.search(r'-',ans):\n",
    "            ans = ans.split('-')\n",
    "            ans = (float(ans[1])-float(ans[0]))/2\n",
    "        elif re.search(r'\\+',ans):\n",
    "            ans = re.sub('\\+','',ans)\n",
    "        return float(ans)\n",
    "    else:\n",
    "        return None"
   ]
  },
  {
   "cell_type": "code",
   "execution_count": 156,
   "metadata": {
    "scrolled": true
   },
   "outputs": [],
   "source": [
    "chats_df['BAU'] = chats_df['message'].map(BAU)"
   ]
  },
  {
   "cell_type": "code",
   "execution_count": 157,
   "metadata": {},
   "outputs": [
    {
     "data": {
      "text/html": [
       "<div>\n",
       "<style scoped>\n",
       "    .dataframe tbody tr th:only-of-type {\n",
       "        vertical-align: middle;\n",
       "    }\n",
       "\n",
       "    .dataframe tbody tr th {\n",
       "        vertical-align: top;\n",
       "    }\n",
       "\n",
       "    .dataframe thead th {\n",
       "        text-align: right;\n",
       "    }\n",
       "</style>\n",
       "<table border=\"1\" class=\"dataframe\">\n",
       "  <thead>\n",
       "    <tr style=\"text-align: right;\">\n",
       "      <th></th>\n",
       "      <th>message</th>\n",
       "      <th>date</th>\n",
       "      <th>sex</th>\n",
       "      <th>age</th>\n",
       "      <th>headache</th>\n",
       "      <th>BAU</th>\n",
       "    </tr>\n",
       "  </thead>\n",
       "  <tbody>\n",
       "    <tr>\n",
       "      <th>0</th>\n",
       "      <td>Народные отчеты о вакцинации\\r\\n\\r\\n⚠️ ТОЛЬКО ...</td>\n",
       "      <td>2023-01-05</td>\n",
       "      <td>None</td>\n",
       "      <td>NaN</td>\n",
       "      <td>Головной боли не было</td>\n",
       "      <td>NaN</td>\n",
       "    </tr>\n",
       "    <tr>\n",
       "      <th>1</th>\n",
       "      <td>📣 ВЕСТНИК V1V2.ru выпуск #70 от 09.12.2022@09:...</td>\n",
       "      <td>2023-01-02</td>\n",
       "      <td>None</td>\n",
       "      <td>NaN</td>\n",
       "      <td>Головной боли не было</td>\n",
       "      <td>NaN</td>\n",
       "    </tr>\n",
       "    <tr>\n",
       "      <th>2</th>\n",
       "      <td>Ж, 20 лет, умеренный аллергик. Сделала Спутник...</td>\n",
       "      <td>2023-01-02</td>\n",
       "      <td>Ж</td>\n",
       "      <td>20.0</td>\n",
       "      <td>Головной боли не было</td>\n",
       "      <td>NaN</td>\n",
       "    </tr>\n",
       "    <tr>\n",
       "      <th>3</th>\n",
       "      <td>M40, без хронических болезней, в феврале 2022 ...</td>\n",
       "      <td>2022-12-31</td>\n",
       "      <td>М</td>\n",
       "      <td>40.0</td>\n",
       "      <td>Головной боли не было</td>\n",
       "      <td>NaN</td>\n",
       "    </tr>\n",
       "    <tr>\n",
       "      <th>4</th>\n",
       "      <td>#ревак #назально #спутник\\r\\n\\r\\nЖ53, ковидом ...</td>\n",
       "      <td>2022-12-31</td>\n",
       "      <td>Ж</td>\n",
       "      <td>53.0</td>\n",
       "      <td>Головной боли не было</td>\n",
       "      <td>504.94</td>\n",
       "    </tr>\n",
       "    <tr>\n",
       "      <th>5</th>\n",
       "      <td>Пол, возраст, наличие хр.заболеваний укажите, ...</td>\n",
       "      <td>2022-12-28</td>\n",
       "      <td>None</td>\n",
       "      <td>NaN</td>\n",
       "      <td>Головной боли не было</td>\n",
       "      <td>NaN</td>\n",
       "    </tr>\n",
       "    <tr>\n",
       "      <th>6</th>\n",
       "      <td>Конвасэл до сих пор не даёт полноценный QR код...</td>\n",
       "      <td>2022-12-27</td>\n",
       "      <td>None</td>\n",
       "      <td>NaN</td>\n",
       "      <td>Головной боли не было</td>\n",
       "      <td>NaN</td>\n",
       "    </tr>\n",
       "    <tr>\n",
       "      <th>7</th>\n",
       "      <td>Dima32 Данный чат предназначен только для отчё...</td>\n",
       "      <td>2022-12-27</td>\n",
       "      <td>None</td>\n",
       "      <td>NaN</td>\n",
       "      <td>Головной боли не было</td>\n",
       "      <td>NaN</td>\n",
       "    </tr>\n",
       "    <tr>\n",
       "      <th>8</th>\n",
       "      <td>#назально #ревак #спутник-V\\r\\nМ33. 1 комп.: л...</td>\n",
       "      <td>2022-12-25</td>\n",
       "      <td>М</td>\n",
       "      <td>33.0</td>\n",
       "      <td>Была головная боль</td>\n",
       "      <td>NaN</td>\n",
       "    </tr>\n",
       "    <tr>\n",
       "      <th>9</th>\n",
       "      <td>#ревак #назально  первый этап 12.09, второй эт...</td>\n",
       "      <td>2022-12-23</td>\n",
       "      <td>None</td>\n",
       "      <td>NaN</td>\n",
       "      <td>Головной боли не было</td>\n",
       "      <td>NaN</td>\n",
       "    </tr>\n",
       "    <tr>\n",
       "      <th>10</th>\n",
       "      <td>#назально #ревак. Ж35. Хр. Заболевания: полива...</td>\n",
       "      <td>2022-12-19</td>\n",
       "      <td>Ж</td>\n",
       "      <td>35.0</td>\n",
       "      <td>Головной боли не было</td>\n",
       "      <td>NaN</td>\n",
       "    </tr>\n",
       "    <tr>\n",
       "      <th>11</th>\n",
       "      <td>#ревак #назально\\r\\n11.12.22. Гум, Спутник+Уль...</td>\n",
       "      <td>2022-12-16</td>\n",
       "      <td>Ж</td>\n",
       "      <td>45.0</td>\n",
       "      <td>Головной боли не было</td>\n",
       "      <td>NaN</td>\n",
       "    </tr>\n",
       "    <tr>\n",
       "      <th>12</th>\n",
       "      <td>#дети\\r\\nМ 13 лет.  спутник м. \\r\\n1я доза 23....</td>\n",
       "      <td>2022-12-12</td>\n",
       "      <td>М</td>\n",
       "      <td>13.0</td>\n",
       "      <td>Была головная боль</td>\n",
       "      <td>NaN</td>\n",
       "    </tr>\n",
       "    <tr>\n",
       "      <th>13</th>\n",
       "      <td>#ревак  #назально  #спутник \\r\\nМ 49 вторая до...</td>\n",
       "      <td>2022-12-09</td>\n",
       "      <td>М</td>\n",
       "      <td>49.0</td>\n",
       "      <td>Головной боли не было</td>\n",
       "      <td>NaN</td>\n",
       "    </tr>\n",
       "    <tr>\n",
       "      <th>14</th>\n",
       "      <td>Уточните даты вакцинации, пожалуйста. Если ваш...</td>\n",
       "      <td>2022-12-07</td>\n",
       "      <td>None</td>\n",
       "      <td>NaN</td>\n",
       "      <td>Головной боли не было</td>\n",
       "      <td>NaN</td>\n",
       "    </tr>\n",
       "    <tr>\n",
       "      <th>15</th>\n",
       "      <td>Дополняю и обобщаю:\\r\\n#ревак\\r\\nМоя мама\\r\\nЖ...</td>\n",
       "      <td>2022-12-04</td>\n",
       "      <td>Ж</td>\n",
       "      <td>88.0</td>\n",
       "      <td>Головной боли не было</td>\n",
       "      <td>665.00</td>\n",
       "    </tr>\n",
       "    <tr>\n",
       "      <th>16</th>\n",
       "      <td>Еще дополняю и обобщаю\\r\\n#ревак #назально\\r\\n...</td>\n",
       "      <td>2022-12-04</td>\n",
       "      <td>Ж</td>\n",
       "      <td>51.0</td>\n",
       "      <td>Головной боли не было</td>\n",
       "      <td>313.00</td>\n",
       "    </tr>\n",
       "    <tr>\n",
       "      <th>17</th>\n",
       "      <td>#назально #ревак\\r\\nЖ37, без хронических. Кови...</td>\n",
       "      <td>2022-11-30</td>\n",
       "      <td>Ж</td>\n",
       "      <td>37.0</td>\n",
       "      <td>Была головная боль</td>\n",
       "      <td>NaN</td>\n",
       "    </tr>\n",
       "    <tr>\n",
       "      <th>18</th>\n",
       "      <td>#ревак #назально #спутник #гуммосква\\r\\nЖ50, с...</td>\n",
       "      <td>2022-11-30</td>\n",
       "      <td>Ж</td>\n",
       "      <td>50.0</td>\n",
       "      <td>Головной боли не было</td>\n",
       "      <td>NaN</td>\n",
       "    </tr>\n",
       "    <tr>\n",
       "      <th>19</th>\n",
       "      <td>Ковид19 26.11.22 от заболевших родителей. (Аль...</td>\n",
       "      <td>2022-11-30</td>\n",
       "      <td>None</td>\n",
       "      <td>NaN</td>\n",
       "      <td>Головной боли не было</td>\n",
       "      <td>NaN</td>\n",
       "    </tr>\n",
       "  </tbody>\n",
       "</table>\n",
       "</div>"
      ],
      "text/plain": [
       "                                              message        date   sex   age  \\\n",
       "0   Народные отчеты о вакцинации\\r\\n\\r\\n⚠️ ТОЛЬКО ...  2023-01-05  None   NaN   \n",
       "1   📣 ВЕСТНИК V1V2.ru выпуск #70 от 09.12.2022@09:...  2023-01-02  None   NaN   \n",
       "2   Ж, 20 лет, умеренный аллергик. Сделала Спутник...  2023-01-02     Ж  20.0   \n",
       "3   M40, без хронических болезней, в феврале 2022 ...  2022-12-31     М  40.0   \n",
       "4   #ревак #назально #спутник\\r\\n\\r\\nЖ53, ковидом ...  2022-12-31     Ж  53.0   \n",
       "5   Пол, возраст, наличие хр.заболеваний укажите, ...  2022-12-28  None   NaN   \n",
       "6   Конвасэл до сих пор не даёт полноценный QR код...  2022-12-27  None   NaN   \n",
       "7   Dima32 Данный чат предназначен только для отчё...  2022-12-27  None   NaN   \n",
       "8   #назально #ревак #спутник-V\\r\\nМ33. 1 комп.: л...  2022-12-25     М  33.0   \n",
       "9   #ревак #назально  первый этап 12.09, второй эт...  2022-12-23  None   NaN   \n",
       "10  #назально #ревак. Ж35. Хр. Заболевания: полива...  2022-12-19     Ж  35.0   \n",
       "11  #ревак #назально\\r\\n11.12.22. Гум, Спутник+Уль...  2022-12-16     Ж  45.0   \n",
       "12  #дети\\r\\nМ 13 лет.  спутник м. \\r\\n1я доза 23....  2022-12-12     М  13.0   \n",
       "13  #ревак  #назально  #спутник \\r\\nМ 49 вторая до...  2022-12-09     М  49.0   \n",
       "14  Уточните даты вакцинации, пожалуйста. Если ваш...  2022-12-07  None   NaN   \n",
       "15  Дополняю и обобщаю:\\r\\n#ревак\\r\\nМоя мама\\r\\nЖ...  2022-12-04     Ж  88.0   \n",
       "16  Еще дополняю и обобщаю\\r\\n#ревак #назально\\r\\n...  2022-12-04     Ж  51.0   \n",
       "17  #назально #ревак\\r\\nЖ37, без хронических. Кови...  2022-11-30     Ж  37.0   \n",
       "18  #ревак #назально #спутник #гуммосква\\r\\nЖ50, с...  2022-11-30     Ж  50.0   \n",
       "19  Ковид19 26.11.22 от заболевших родителей. (Аль...  2022-11-30  None   NaN   \n",
       "\n",
       "                 headache     BAU  \n",
       "0   Головной боли не было     NaN  \n",
       "1   Головной боли не было     NaN  \n",
       "2   Головной боли не было     NaN  \n",
       "3   Головной боли не было     NaN  \n",
       "4   Головной боли не было  504.94  \n",
       "5   Головной боли не было     NaN  \n",
       "6   Головной боли не было     NaN  \n",
       "7   Головной боли не было     NaN  \n",
       "8      Была головная боль     NaN  \n",
       "9   Головной боли не было     NaN  \n",
       "10  Головной боли не было     NaN  \n",
       "11  Головной боли не было     NaN  \n",
       "12     Была головная боль     NaN  \n",
       "13  Головной боли не было     NaN  \n",
       "14  Головной боли не было     NaN  \n",
       "15  Головной боли не было  665.00  \n",
       "16  Головной боли не было  313.00  \n",
       "17     Была головная боль     NaN  \n",
       "18  Головной боли не было     NaN  \n",
       "19  Головной боли не было     NaN  "
      ]
     },
     "execution_count": 157,
     "metadata": {},
     "output_type": "execute_result"
    }
   ],
   "source": [
    "chats_df[:20]"
   ]
  },
  {
   "cell_type": "code",
   "execution_count": 167,
   "metadata": {},
   "outputs": [
    {
     "data": {
      "text/plain": [
       "<AxesSubplot:title={'center':'Average BAU by age'}, xlabel='age'>"
      ]
     },
     "execution_count": 167,
     "metadata": {},
     "output_type": "execute_result"
    },
    {
     "data": {
      "image/png": "[encoded data removed]",
      "text/plain": [
       "<Figure size 1440x504 with 1 Axes>"
      ]
     },
     "metadata": {
      "needs_background": "light"
     },
     "output_type": "display_data"
    }
   ],
   "source": [
    "chats_df[chats_df['age']!=None].groupby('age')['BAU'].mean(numeric_only=True).plot(\n",
    "    kind='bar',figsize=(20,7),title = 'Average BAU by age',grid = True)"
   ]
  }
 ],
 "metadata": {
  "kernelspec": {
   "display_name": "Python 3 (ipykernel)",
   "language": "python",
   "name": "python3"
  },
  "language_info": {
   "codemirror_mode": {
    "name": "ipython",
    "version": 3
   },
   "file_extension": ".py",
   "mimetype": "text/x-python",
   "name": "python",
   "nbconvert_exporter": "python",
   "pygments_lexer": "ipython3",
   "version": "3.9.12"
  },
  "vscode": {
   "interpreter": {
    "hash": "916dbcbb3f70747c44a77c7bcd40155683ae19c65e1c03b4aa3499c5328201f1"
   }
  }
 },
 "nbformat": 4,
 "nbformat_minor": 4
}
